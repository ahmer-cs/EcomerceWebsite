{
  "nbformat": 4,
  "nbformat_minor": 0,
  "metadata": {
    "colab": {
      "provenance": [],
      "toc_visible": true,
      "authorship_tag": "ABX9TyMX15aLYHWr7fbMHBdtMCSY",
      "include_colab_link": true
    },
    "kernelspec": {
      "name": "python3",
      "display_name": "Python 3"
    },
    "language_info": {
      "name": "python"
    }
  },
  "cells": [
    {
      "cell_type": "markdown",
      "metadata": {
        "id": "view-in-github",
        "colab_type": "text"
      },
      "source": [
        "<a href=\"https://colab.research.google.com/github/ahmer-cs/EcomerceWebsite/blob/main/Task1.ipynb\" target=\"_parent\"><img src=\"https://colab.research.google.com/assets/colab-badge.svg\" alt=\"Open In Colab\"/></a>"
      ]
    },
    {
      "cell_type": "markdown",
      "source": [
        "#SECTION 1:\n",
        "#SHOPKEES ECOMMERCE WEBSITE SCRAPING"
      ],
      "metadata": {
        "id": "OpXEHnZZ5AQO"
      }
    },
    {
      "cell_type": "code",
      "execution_count": null,
      "metadata": {
        "colab": {
          "base_uri": "https://localhost:8080/"
        },
        "id": "rRbuRnvnvlxt",
        "outputId": "3d6be209-2b9e-4ece-feb2-3225ac46fb88"
      },
      "outputs": [
        {
          "output_type": "stream",
          "name": "stdout",
          "text": [
            "Requirement already satisfied: requests in /usr/local/lib/python3.10/dist-packages (2.31.0)\n",
            "Requirement already satisfied: charset-normalizer<4,>=2 in /usr/local/lib/python3.10/dist-packages (from requests) (3.3.1)\n",
            "Requirement already satisfied: idna<4,>=2.5 in /usr/local/lib/python3.10/dist-packages (from requests) (3.4)\n",
            "Requirement already satisfied: urllib3<3,>=1.21.1 in /usr/local/lib/python3.10/dist-packages (from requests) (2.0.7)\n",
            "Requirement already satisfied: certifi>=2017.4.17 in /usr/local/lib/python3.10/dist-packages (from requests) (2023.7.22)\n"
          ]
        }
      ],
      "source": [
        "pip install requests"
      ]
    },
    {
      "cell_type": "code",
      "source": [
        "pip install beautifulsoup4"
      ],
      "metadata": {
        "colab": {
          "base_uri": "https://localhost:8080/"
        },
        "id": "1TeRI-QnwchX",
        "outputId": "82056f50-786e-453c-e922-2602a3edbfe6"
      },
      "execution_count": null,
      "outputs": [
        {
          "output_type": "stream",
          "name": "stdout",
          "text": [
            "Requirement already satisfied: beautifulsoup4 in /usr/local/lib/python3.10/dist-packages (4.11.2)\n",
            "Requirement already satisfied: soupsieve>1.2 in /usr/local/lib/python3.10/dist-packages (from beautifulsoup4) (2.5)\n"
          ]
        }
      ]
    },
    {
      "cell_type": "code",
      "source": [
        "import requests\n",
        "from bs4 import BeautifulSoup\n",
        "import pandas as pd\n",
        "\n",
        "url = 'https://www.shopkees.com/global-en/tablets?brand_id=0&search_key=&min=0&max=100000&per_page_list=140'\n",
        "r = requests.get(url)\n",
        "# print(r)\n",
        "soup = BeautifulSoup(r.text,'lxml')\n",
        "# print(soup)\n",
        "\n",
        "data = []\n",
        "\n",
        "names = soup.find_all(\"div\", class_=\"product-title\")\n",
        "price_divs = soup.find_all(\"div\", class_=\"product-price\")\n",
        "\n",
        "for i, price_div in zip(names, price_divs):\n",
        "    product_name = i.text.strip()\n",
        "    original_price_span = price_div.find(\"span\")\n",
        "    product_price = original_price_span.text.strip()\n",
        "    data.append([product_name, product_price])\n",
        "\n",
        "df1 = pd.DataFrame(data, columns=[\"Product_Name\", \"Product_Price_x\"])\n",
        "print(df1)\n"
      ],
      "metadata": {
        "id": "w1qnSrlEv9_9",
        "colab": {
          "base_uri": "https://localhost:8080/"
        },
        "outputId": "cef8792c-39d3-4135-b43c-166008d14087"
      },
      "execution_count": null,
      "outputs": [
        {
          "output_type": "stream",
          "name": "stdout",
          "text": [
            "                                          Product_Name Product_Price_x\n",
            "0    Huawei Matepad T8, 8 Inch, 2GB RAM 32GB, Wi-Fi...        $ 126.43\n",
            "1    Samsung Galaxy Tab S6 Lite 10.4 Inch, 4GB RAM,...        $ 344.69\n",
            "2    Samsung Galaxy Tab A7 Lite 3GB RAM 32GB, 4G LT...        $ 103.81\n",
            "3         Samsung Galaxy Tab A8 Wi-Fi 4GB 64GB, Silver        $ 187.47\n",
            "4    Apple Magic Wireless Keyboard For Apple iPad P...        $ 323.98\n",
            "..                                                 ...             ...\n",
            "135  Samsung Galaxy Tab A8 LTE + Wi-Fi 4GB 64GB, Da...        $ 187.74\n",
            "136  Apple iPad Pro 2022 6th Gen M2 Chip 12.9 Inch ...      $ 2,067.85\n",
            "137  Huawei MatePad T10 Tablet, 9.7 Inch, 2GB RAM, ...        $ 147.68\n",
            "138  Samsung Galaxy Tab S6 Lite 10.4 Inch, 4GB RAM,...        $ 344.69\n",
            "139  Samsung Galaxy Tab A7 Lite 3GB RAM 32GB, 4G LT...        $ 106.54\n",
            "\n",
            "[140 rows x 2 columns]\n"
          ]
        }
      ]
    },
    {
      "cell_type": "code",
      "source": [
        "df1.isnull().sum()"
      ],
      "metadata": {
        "colab": {
          "base_uri": "https://localhost:8080/"
        },
        "id": "RufdD2EzhmcR",
        "outputId": "8057db58-9f19-4c5e-95ca-128d074f595d"
      },
      "execution_count": null,
      "outputs": [
        {
          "output_type": "execute_result",
          "data": {
            "text/plain": [
              "Product Name     0\n",
              "Product Price    0\n",
              "dtype: int64"
            ]
          },
          "metadata": {},
          "execution_count": 189
        }
      ]
    },
    {
      "cell_type": "code",
      "source": [
        "# Save the DataFrame to an Excel file\n",
        "df1.to_excel(\"samsung_tablets.xlsx\", index=False)"
      ],
      "metadata": {
        "id": "f90x-muX3XTs"
      },
      "execution_count": null,
      "outputs": []
    },
    {
      "cell_type": "code",
      "source": [
        "duplicates = df1[df1.duplicated(subset=[\"Product_Name\", \"Product_Price_x\"], keep=False)]\n",
        "print(duplicates)"
      ],
      "metadata": {
        "colab": {
          "base_uri": "https://localhost:8080/"
        },
        "id": "h5EWc9Kvhzp4",
        "outputId": "254705bd-3436-40fe-9c20-60cd31e93518"
      },
      "execution_count": null,
      "outputs": [
        {
          "output_type": "stream",
          "name": "stdout",
          "text": [
            "                                          Product_Name Product_Price_x\n",
            "1    Samsung Galaxy Tab S6 Lite 10.4 Inch, 4GB RAM,...        $ 344.69\n",
            "5    Samsung Galaxy Tab S6 Lite 10.4 Inch, 4GB RAM,...        $ 279.29\n",
            "7    Apple iPad Air 5th Gen 2022 Wi-Fi, 64GB, 10.9 ...        $ 540.60\n",
            "12   Apple iPad Air 5th Gen 2022 Wi-Fi, 64GB, 10.9 ...        $ 540.60\n",
            "14   Samsung Galaxy Tab S6 Lite 10.4 Inch, 4GB RAM,...        $ 240.33\n",
            "23   Samsung Galaxy Tab S6 Lite 10.4 Inch, 4GB RAM,...        $ 240.33\n",
            "25   Apple iPad Air 5th Gen 2022 Wi-Fi, 256GB, 10.9...        $ 705.45\n",
            "30   Apple iPad Air 5th Gen 2022 Wi-Fi, 256GB, 10.9...        $ 705.45\n",
            "35   Apple iPad Air 5th Gen 2022  Wi-Fi + Cellular,...        $ 896.19\n",
            "41   Apple iPad Air 5th Gen 2022  Wi-Fi + Cellular,...        $ 896.19\n",
            "46   Apple iPad Air 5th Gen 2022  Wi-Fi + Cellular,...        $ 896.19\n",
            "50   Apple iPad Air 5th Gen 2022  Wi-Fi + Cellular,...        $ 896.19\n",
            "70   Apple iPad 9th Gen 2021 10.2 Inch, 256GB, Wi-F...        $ 630.79\n",
            "73   Samsung Galaxy Tab S6 Lite 10.4 Inch, 4GB RAM,...        $ 291.28\n",
            "84   Apple iPad 9th Gen 2021 10.2 Inch, 256GB, Wi-F...        $ 630.79\n",
            "89   Apple iPad Pro 2022 6th Gen M2 Chip 12.9 Inch ...      $ 1,034.33\n",
            "91   Samsung Galaxy Tab S6 Lite 10.4 Inch, 4GB RAM,...        $ 291.28\n",
            "92   Apple iPad Mini 6th Gen 256GB, Wi-Fi + Cellula...        $ 866.21\n",
            "93   Apple iPad Pro 2022 6th Gen M2 Chip 12.9 Inch ...      $ 1,034.33\n",
            "96   Apple iPad Mini 6th Gen 256GB, Wi-Fi + Cellula...        $ 866.21\n",
            "100  Apple iPad Mini 6th Gen 256GB, Wi-Fi + Cellula...        $ 866.21\n",
            "101  Apple iPad Pro 2022 6th Gen M2 Chip 12.9 Inch ...      $ 1,257.49\n",
            "102  Samsung Galaxy Tab S6 Lite 10.4 Inch, 4GB RAM,...        $ 344.69\n",
            "104  Apple iPad Mini 6th Gen 256GB, Wi-Fi + Cellula...        $ 866.21\n",
            "105  Apple iPad Pro 2022 6th Gen M2 Chip 12.9 Inch ...      $ 1,257.49\n",
            "106  Apple iPad Air 5th Gen 2022 Wi-Fi, 256GB, 10.9...        $ 705.45\n",
            "111  Apple iPad Air 5th Gen 2022 Wi-Fi, 64GB, 10.9 ...        $ 540.60\n",
            "118  Samsung Galaxy Tab S6 Lite 10.4 Inch, 4GB RAM,...        $ 279.29\n",
            "121  Apple iPad Pro 2022 6th Gen M2 Chip 12.9 Inch ...      $ 2,514.71\n",
            "123  Samsung Galaxy Tab A8 LTE + Wi-Fi ,4GB 32GB St...        $ 189.37\n",
            "126  Apple iPad Pro 2022 6th Gen M2 Chip 12.9 Inch ...      $ 2,514.71\n",
            "128  Samsung Galaxy Tab A8 LTE + Wi-Fi ,4GB 32GB St...        $ 189.37\n",
            "131  Apple iPad Pro 2022 6th Gen M2 Chip 12.9 Inch ...      $ 2,067.85\n",
            "133  Samsung Galaxy Tab A8 LTE + Wi-Fi ,4GB 32GB St...        $ 189.37\n",
            "136  Apple iPad Pro 2022 6th Gen M2 Chip 12.9 Inch ...      $ 2,067.85\n",
            "138  Samsung Galaxy Tab S6 Lite 10.4 Inch, 4GB RAM,...        $ 344.69\n"
          ]
        }
      ]
    },
    {
      "cell_type": "code",
      "source": [
        "df1 = df1.drop_duplicates(subset=[\"Product_Name\", \"Product_Price_x\"], keep=\"first\")\n",
        "print(df1)"
      ],
      "metadata": {
        "colab": {
          "base_uri": "https://localhost:8080/"
        },
        "id": "bLoBgMLvi1iW",
        "outputId": "ead99e9a-acba-4311-8d94-13d102c5db45"
      },
      "execution_count": null,
      "outputs": [
        {
          "output_type": "stream",
          "name": "stdout",
          "text": [
            "                                          Product_Name Product_Price_x\n",
            "0    Huawei Matepad T8, 8 Inch, 2GB RAM 32GB, Wi-Fi...        $ 126.43\n",
            "1    Samsung Galaxy Tab S6 Lite 10.4 Inch, 4GB RAM,...        $ 344.69\n",
            "2    Samsung Galaxy Tab A7 Lite 3GB RAM 32GB, 4G LT...        $ 103.81\n",
            "3         Samsung Galaxy Tab A8 Wi-Fi 4GB 64GB, Silver        $ 187.47\n",
            "4    Apple Magic Wireless Keyboard For Apple iPad P...        $ 323.98\n",
            "..                                                 ...             ...\n",
            "132  Samsung Galaxy Tab A8 LTE + Wi-Fi 4GB 64GB, Pi...        $ 187.74\n",
            "134  Samsung Galaxy Tab A7 Lite 3GB RAM, 32GB, Wi-F...        $ 104.90\n",
            "135  Samsung Galaxy Tab A8 LTE + Wi-Fi 4GB 64GB, Da...        $ 187.74\n",
            "137  Huawei MatePad T10 Tablet, 9.7 Inch, 2GB RAM, ...        $ 147.68\n",
            "139  Samsung Galaxy Tab A7 Lite 3GB RAM 32GB, 4G LT...        $ 106.54\n",
            "\n",
            "[119 rows x 2 columns]\n"
          ]
        }
      ]
    },
    {
      "cell_type": "code",
      "source": [
        "# Save the DataFrame to an Excel file\n",
        "df1.to_excel(\"samsung_table22ts.xlsx\", index=False)"
      ],
      "metadata": {
        "id": "LSma4SHQ4DUj"
      },
      "execution_count": null,
      "outputs": []
    },
    {
      "cell_type": "code",
      "source": [
        "duplicates = df1[df1.duplicated(subset=[\"Product_Name\", \"Product_Price_x\"], keep=False)]\n",
        "\n",
        "if not duplicates.empty:\n",
        "    print(\"Duplicate rows:\")\n",
        "    print(duplicates)\n",
        "else:\n",
        "    print(\"No duplicate rows found.\")"
      ],
      "metadata": {
        "colab": {
          "base_uri": "https://localhost:8080/"
        },
        "id": "OZdPI4kG4ed2",
        "outputId": "5ab89aaf-7cfa-4d91-facd-6ed587c63e41"
      },
      "execution_count": null,
      "outputs": [
        {
          "output_type": "stream",
          "name": "stdout",
          "text": [
            "No duplicate rows found.\n"
          ]
        }
      ]
    },
    {
      "cell_type": "code",
      "source": [],
      "metadata": {
        "id": "FRRY7jai2iko"
      },
      "execution_count": null,
      "outputs": []
    },
    {
      "cell_type": "markdown",
      "source": [
        "# SECTION 2\n",
        "# EBAY\n",
        "\n"
      ],
      "metadata": {
        "id": "FV8nx_SF5QNe"
      }
    },
    {
      "cell_type": "code",
      "source": [
        "import requests\n",
        "from bs4 import BeautifulSoup\n",
        "import pandas as pd\n",
        "data = []\n",
        "for page_number in range(1, 5):\n",
        "    # Construct the URL for the current page\n",
        "    url = f'https://www.ebay.com/sch/i.html?_from=R40&_nkw=tablets&_sacat=0&_oaa=1&rt=nc&Brand=Acer%7CApple%7CSamsung%7CLenovo&_dcat=171485&_pgn={page_number}'\n",
        "    r = requests.get(url)\n",
        "    soup = BeautifulSoup(r.text,'lxml')\n",
        "    names = soup.find_all(\"div\", class_=\"s-item__title\")\n",
        "    price_divs = soup.find_all(\"span\", class_=\"s-item__price\")\n",
        "# for i in price_divs:\n",
        "#   print(i.text)\n",
        "    for i, j in zip(names, price_divs):\n",
        "      product_name = i.text.strip()\n",
        "      product_price = j.text.strip()\n",
        "      data.append([product_name, product_price])\n",
        "\n",
        "# Create a DataFrame with columns \"Product Name\" and \"Product Price\"\n",
        "df2 = pd.DataFrame(data, columns=[\"Product_Name\", \"Product_Price_y\"])\n",
        "print(df2)"
      ],
      "metadata": {
        "colab": {
          "base_uri": "https://localhost:8080/"
        },
        "id": "oGL2jl-p7Ez_",
        "outputId": "fce83219-0daf-46ce-d286-ad9cc9f8c586"
      },
      "execution_count": null,
      "outputs": [
        {
          "output_type": "stream",
          "name": "stdout",
          "text": [
            "                                          Product_Name Product_Price_y\n",
            "0                                         Shop on eBay          $20.00\n",
            "1    Apple iPad 9.7 5th Gen.(A1823)Space Gray 32GB ...          $72.25\n",
            "2    New ListingSamsung Galaxy Tab Pro SM-T9000 12....          $40.00\n",
            "3    Apple iPad 5 (2017) 9.7\" Tablet Retina Display...         $109.99\n",
            "4    Apple Pro 10.5\" A1709 64GB  ROSE GOLD Wi-Fi + ...         $174.25\n",
            "..                                                 ...             ...\n",
            "307  Lenovo Tab M10 Plus 10.3 inch 64GB Gray Wi-Fi ...          $40.00\n",
            "308  Good Apple iPad 2 9.7\" A1395 16GB WiFi Only ta...         $200.00\n",
            "309  Samsung Galaxy Tab A 9.7\" 16GB T550 Black Wi-F...         $350.00\n",
            "310  Apple iPad Air 1st Gen 32gb Silver 9.7in Silve...          $92.22\n",
            "311      Apple iPad Air 2 128GB, Wi-Fi, 9.7in - Silver          $19.95\n",
            "\n",
            "[312 rows x 2 columns]\n"
          ]
        }
      ]
    },
    {
      "cell_type": "code",
      "source": [
        "df2.isnull().sum()"
      ],
      "metadata": {
        "colab": {
          "base_uri": "https://localhost:8080/"
        },
        "id": "XH4KyhYWAbFQ",
        "outputId": "9d1df368-3210-4e43-d1da-00b2955c2423"
      },
      "execution_count": null,
      "outputs": [
        {
          "output_type": "execute_result",
          "data": {
            "text/plain": [
              "Product_Name       0\n",
              "Product_Price_y    0\n",
              "dtype: int64"
            ]
          },
          "metadata": {},
          "execution_count": 7
        }
      ]
    },
    {
      "cell_type": "code",
      "source": [
        "duplicates = df2[df2.duplicated(subset=[\"Product_Name\", \"Product_Price_y\"], keep=False)]\n",
        "print(duplicates)"
      ],
      "metadata": {
        "colab": {
          "base_uri": "https://localhost:8080/"
        },
        "id": "muQ2B2LoAooo",
        "outputId": "d097ef29-d6ec-4be0-cb85-9af2eedbcf77"
      },
      "execution_count": null,
      "outputs": [
        {
          "output_type": "stream",
          "name": "stdout",
          "text": [
            "                                          Product_Name Product_Price_y\n",
            "0                                         Shop on eBay          $20.00\n",
            "10   New ListingiPad 9th generation 64gb wifi only ...         $162.50\n",
            "57   New ListingiPad 9th generation 64gb wifi only ...         $162.50\n",
            "84                                        Shop on eBay          $20.00\n",
            "160                                       Shop on eBay          $20.00\n",
            "236                                       Shop on eBay          $20.00\n"
          ]
        }
      ]
    },
    {
      "cell_type": "code",
      "source": [
        "df2 = df2.drop_duplicates(subset=[\"Product_Name\", \"Product_Price_y\"])\n",
        "print(df2)"
      ],
      "metadata": {
        "colab": {
          "base_uri": "https://localhost:8080/"
        },
        "id": "t8XhnQEaA-rb",
        "outputId": "10ae234c-cf74-493c-c9b0-f1407e9b9acc"
      },
      "execution_count": null,
      "outputs": [
        {
          "output_type": "stream",
          "name": "stdout",
          "text": [
            "                                          Product_Name Product_Price_y\n",
            "0                                         Shop on eBay          $20.00\n",
            "1    Apple iPad 9.7 5th Gen.(A1823)Space Gray 32GB ...          $72.25\n",
            "2    New ListingSamsung Galaxy Tab Pro SM-T9000 12....          $40.00\n",
            "3    Apple iPad 5 (2017) 9.7\" Tablet Retina Display...         $109.99\n",
            "4    Apple Pro 10.5\" A1709 64GB  ROSE GOLD Wi-Fi + ...         $174.25\n",
            "..                                                 ...             ...\n",
            "307  Lenovo Tab M10 Plus 10.3 inch 64GB Gray Wi-Fi ...          $40.00\n",
            "308  Good Apple iPad 2 9.7\" A1395 16GB WiFi Only ta...         $200.00\n",
            "309  Samsung Galaxy Tab A 9.7\" 16GB T550 Black Wi-F...         $350.00\n",
            "310  Apple iPad Air 1st Gen 32gb Silver 9.7in Silve...          $92.22\n",
            "311      Apple iPad Air 2 128GB, Wi-Fi, 9.7in - Silver          $19.95\n",
            "\n",
            "[308 rows x 2 columns]\n"
          ]
        }
      ]
    },
    {
      "cell_type": "code",
      "source": [
        "df2.drop(df2.index[0], inplace=True)"
      ],
      "metadata": {
        "id": "UQ6AbdgzBwTJ"
      },
      "execution_count": null,
      "outputs": []
    },
    {
      "cell_type": "code",
      "source": [
        "df2.reset_index(drop=True, inplace=True)"
      ],
      "metadata": {
        "id": "-U3b39i9CP3I"
      },
      "execution_count": null,
      "outputs": []
    },
    {
      "cell_type": "code",
      "source": [
        "print(df2)"
      ],
      "metadata": {
        "colab": {
          "base_uri": "https://localhost:8080/"
        },
        "id": "tkgXfuCMDR70",
        "outputId": "c570595f-741d-405e-8ad2-7844882ac635"
      },
      "execution_count": null,
      "outputs": [
        {
          "output_type": "stream",
          "name": "stdout",
          "text": [
            "                                          Product_Name Product_Price_y\n",
            "0    Apple iPad 9.7 5th Gen.(A1823)Space Gray 32GB ...          $72.25\n",
            "1    New ListingSamsung Galaxy Tab Pro SM-T9000 12....          $40.00\n",
            "2    Apple iPad 5 (2017) 9.7\" Tablet Retina Display...         $109.99\n",
            "3    Apple Pro 10.5\" A1709 64GB  ROSE GOLD Wi-Fi + ...         $174.25\n",
            "4    Samsung Galaxy Tab Active2 8\" Wi-Fi 16GB Table...          $53.99\n",
            "..                                                 ...             ...\n",
            "302  Lenovo Tab M10 Plus 10.3 inch 64GB Gray Wi-Fi ...          $40.00\n",
            "303  Good Apple iPad 2 9.7\" A1395 16GB WiFi Only ta...         $200.00\n",
            "304  Samsung Galaxy Tab A 9.7\" 16GB T550 Black Wi-F...         $350.00\n",
            "305  Apple iPad Air 1st Gen 32gb Silver 9.7in Silve...          $92.22\n",
            "306      Apple iPad Air 2 128GB, Wi-Fi, 9.7in - Silver          $19.95\n",
            "\n",
            "[307 rows x 2 columns]\n"
          ]
        }
      ]
    },
    {
      "cell_type": "code",
      "source": [
        "df2.drop(141, inplace=True)"
      ],
      "metadata": {
        "id": "bJujbAfhKVOw"
      },
      "execution_count": null,
      "outputs": []
    },
    {
      "cell_type": "code",
      "source": [
        "df2.to_excel(\"samsung_table2222222ts.xlsx\", index=False)"
      ],
      "metadata": {
        "id": "ClmNspvwEX83"
      },
      "execution_count": null,
      "outputs": []
    },
    {
      "cell_type": "markdown",
      "source": [
        "# MERGING\n"
      ],
      "metadata": {
        "id": "ltOhbDdMEb8H"
      }
    },
    {
      "cell_type": "code",
      "source": [
        "# Input the product name for which you want to find the price\n",
        "product_name_input = input(\"Enter the product name: \")\n",
        "\n",
        "# Find the price of the input product in both dataframes based on the first 4 characters\n",
        "price_df1 = df1[df1['Product_Name'].str[:21] == product_name_input[:21]]['Product_Price_x'].values\n",
        "price_df2 = df2[df2['Product_Name'].str[:21] == product_name_input[:21]]['Product_Price_y'].values\n",
        "\n",
        "# Display the prices from both dataframes\n",
        "if price_df1.any():\n",
        "    print(f\"Price in df1: {price_df1[0]}\")\n",
        "else:\n",
        "    print(\"Product not found in df1\")\n",
        "\n",
        "if price_df2.any():\n",
        "    print(f\"Price in df2: {price_df2[0]}\")\n",
        "else:\n",
        "    print(\"Product not found in df2\")"
      ],
      "metadata": {
        "colab": {
          "base_uri": "https://localhost:8080/"
        },
        "id": "sg575Re_Efw3",
        "outputId": "ebbbd6fd-39d6-4259-ba8e-d7d0a960f8f6"
      },
      "execution_count": null,
      "outputs": [
        {
          "output_type": "stream",
          "name": "stdout",
          "text": [
            "Enter the product name: Samsung Galaxy Tab A7\n",
            "Price in df1: $ 103.81\n",
            "Price in df2: $28.60\n"
          ]
        }
      ]
    },
    {
      "cell_type": "code",
      "source": [
        "def get_first_three_words(product_name):\n",
        "    words = product_name.split()\n",
        "    return ' '.join(words[:4])\n",
        "\n",
        "# Apply the function to create a new column with the first three words in both dataframes\n",
        "df1['First Three Words'] = df1['Product_Name'].apply(get_first_three_words)\n",
        "df2['First Three Words'] = df2['Product_Name'].apply(get_first_three_words)\n",
        "\n",
        "# Find common product names based on the first three words\n",
        "common_products = df1[df1['First Three Words'].isin(df2['First Three Words'])]['Product_Name'].tolist()\n",
        "\n",
        "common_products_df = pd.DataFrame({'Common Product Names': common_products})\n",
        "\n",
        "# Display the common product names as a DataFrame\n",
        "print(\"Common Product Names with Similar First Three Words (DataFrame):\")\n",
        "print(common_products_df)\n"
      ],
      "metadata": {
        "colab": {
          "base_uri": "https://localhost:8080/"
        },
        "id": "eiy7DBg5M8EO",
        "outputId": "ece55635-2827-4c72-a987-e10f66efb31b"
      },
      "execution_count": null,
      "outputs": [
        {
          "output_type": "stream",
          "name": "stdout",
          "text": [
            "Common Product Names with Similar First Three Words (DataFrame):\n",
            "                                 Common Product Names\n",
            "0   Apple iPad Mini 6th Gen 64GB, Wi-Fi Only, Star...\n",
            "1   Samsung Galaxy Tab S6 Lite 10.4 Inch, 4GB RAM,...\n",
            "2    Samsung Galaxy Tab A8 Wi-Fi 4GB 64GB,  Pink Gold\n",
            "3   Samsung Galaxy Tab S6 Lite 10.4 Inch, 4GB RAM,...\n",
            "4   Samsung Galaxy Tab S7 FE 12.4 Inch, Wi-Fi LTE,...\n",
            "5   Samsung Galaxy Tab S6 Lite 10.4 Inch, 4GB RAM,...\n",
            "6   Apple iPad Air 4th Gen 2020 Wi-Fi + Cellular, ...\n",
            "7   Apple iPad Mini 6th Gen 256GB, Wi-Fi Only, Spa...\n",
            "8         Samsung Galaxy Tab A8 Wi-Fi 3GB 32GB,Silver\n",
            "9   Apple iPad Mini 6th Gen 256GB, Wi-Fi + Cellula...\n",
            "10  Apple iPad Mini 6th Gen 64GB, Wi-Fi Only, Purp...\n",
            "11  Apple iPad Mini 6th Gen 256GB, Wi-Fi + Cellula...\n",
            "12  Samsung Galaxy Tab A7 Lite 3GB RAM, 32GB, Wi-F...\n",
            "13  Samsung Galaxy Tab A7 Lite 3GB RAM, 32GB, Wi-F...\n",
            "14  Samsung Galaxy Tab S6 Lite 10.4 Inch, 4GB RAM,...\n",
            "15  Samsung Galaxy Tab A8 LTE + Wi-Fi 4GB 64GB, Pi...\n",
            "16  Samsung Galaxy Tab A7 Lite 3GB RAM 32GB, 4G LT...\n",
            "17  Samsung Galaxy Tab A7 Lite 3GB RAM 32GB, 4G LT...\n",
            "18  Samsung Galaxy Tab S6 Lite 10.4 Inch, 4GB RAM,...\n",
            "19  Samsung Galaxy Tab S7 FE 5G Wi-Fi, 12.4 Inch, ...\n",
            "20  Samsung Galaxy Tab A8 LTE + Wi-Fi ,4GB 32GB St...\n",
            "21  Samsung Galaxy Tab A8 LTE + Wi-Fi 4GB 64GB, Si...\n",
            "22  Apple iPad Mini 6th Gen 256GB, Wi-Fi Only, Pur...\n",
            "23  Samsung Galaxy Tab A8 LTE + Wi-Fi 4GB 64GB, Da...\n",
            "24    Samsung Galaxy Tab A8 Wi-Fi 4GB 64GB, Dark Grey\n",
            "25       Samsung Galaxy Tab A8 Wi-Fi 4GB 64GB, Silver\n",
            "26  Apple iPad Mini 6th Gen 256GB, Wi-Fi Only, Sta...\n",
            "27  Apple iPad Mini 6th Gen 256GB, Wi-Fi Only, Pin...\n"
          ]
        }
      ]
    },
    {
      "cell_type": "markdown",
      "source": [
        "# BASED ON THE RESULTS WHICH I HAVE GOT , I'LL SAY EBAY IS MORE SUITABLE OPTION THAN THE FIRST ONE, CAUSE THERE IS A BIG DIFFERENCE IN PRICES OF THE SAME MODEL\n"
      ],
      "metadata": {
        "id": "kQTM_9cLbMK0"
      }
    }
  ]
}